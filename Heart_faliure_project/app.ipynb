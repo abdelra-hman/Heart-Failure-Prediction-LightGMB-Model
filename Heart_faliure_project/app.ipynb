{
 "cells": [
  {
   "cell_type": "code",
   "execution_count": 1,
   "id": "91bab6d7",
   "metadata": {},
   "outputs": [
    {
     "name": "stderr",
     "output_type": "stream",
     "text": [
      "C:\\Users\\ENG_ABDELRAHMAN\\AppData\\Roaming\\Python\\Python310\\site-packages\\tqdm\\auto.py:21: TqdmWarning: IProgress not found. Please update jupyter and ipywidgets. See https://ipywidgets.readthedocs.io/en/stable/user_install.html\n",
      "  from .autonotebook import tqdm as notebook_tqdm\n"
     ]
    }
   ],
   "source": [
    "import gradio as gr\n",
    "import numpy as np\n",
    "import joblib"
   ]
  },
  {
   "cell_type": "code",
   "execution_count": 2,
   "id": "62315701",
   "metadata": {},
   "outputs": [],
   "source": [
    "# Load model and scaler\n",
    "model = joblib.load(\"lightgbm_model.pkl\")\n",
    "scaler = joblib.load(\"scaler.pkl\")\n"
   ]
  },
  {
   "cell_type": "code",
   "execution_count": 3,
   "id": "037b9430",
   "metadata": {},
   "outputs": [],
   "source": [
    "# Define prediction function\n",
    "def predict_heart_failure(age, anaemia, creatinine_phosphokinase, diabetes, ejection_fraction,\n",
    "                          high_blood_pressure, platelets, serum_creatinine, serum_sodium,\n",
    "                          sex, smoking, time):\n",
    "\n",
    "    # Feature engineering\n",
    "    platelets_per_age = platelets / (age + 1)\n",
    "    creatinine_per_ck = serum_creatinine / (creatinine_phosphokinase + 1)\n",
    "    ejection_per_age = ejection_fraction / (age + 1)\n",
    "    anaemia_creatinine = anaemia * serum_creatinine\n",
    "\n",
    "    # Create input array\n",
    "    features = np.array([[age, anaemia, creatinine_phosphokinase, diabetes, ejection_fraction,\n",
    "                          high_blood_pressure, platelets, serum_creatinine, serum_sodium,\n",
    "                          sex, smoking, time,\n",
    "                          platelets_per_age, creatinine_per_ck, ejection_per_age, anaemia_creatinine]])\n",
    "\n",
    "    # Scale input\n",
    "    features_scaled = scaler.transform(features)\n",
    "\n",
    "    # Predict\n",
    "    prediction = model.predict(features_scaled)[0]\n",
    "    return \"✅ Survived\" if prediction == 0 else \"❌ Death Expected\""
   ]
  },
  {
   "cell_type": "code",
   "execution_count": 4,
   "id": "532ee9d3",
   "metadata": {},
   "outputs": [],
   "source": [
    "# Gradio interface\n",
    "inputs = [\n",
    "    gr.Number(label=\"Age\"),\n",
    "    gr.Radio([0, 1], label=\"Anaemia (0=No, 1=Yes)\"),\n",
    "    gr.Number(label=\"Creatinine Phosphokinase\"),\n",
    "    gr.Radio([0, 1], label=\"Diabetes (0=No, 1=Yes)\"),\n",
    "    gr.Number(label=\"Ejection Fraction\"),\n",
    "    gr.Radio([0, 1], label=\"High Blood Pressure\"),\n",
    "    gr.Number(label=\"Platelets\"),\n",
    "    gr.Number(label=\"Serum Creatinine\"),\n",
    "    gr.Number(label=\"Serum Sodium\"),\n",
    "    gr.Radio([0, 1], label=\"Sex (0=Female, 1=Male)\"),\n",
    "    gr.Radio([0, 1], label=\"Smoking (0=No, 1=Yes)\"),\n",
    "    gr.Number(label=\"Follow-up Time\"),\n",
    "]\n",
    "\n",
    "app = gr.Interface(fn=predict_heart_failure, inputs=inputs, outputs=\"text\",\n",
    "                   title=\"🫀 Heart Failure Predictor\",\n",
    "                   description=\"Predicts if a heart failure patient is likely to die (DEATH_EVENT) based on medical data.\")"
   ]
  },
  {
   "cell_type": "code",
   "execution_count": 5,
   "id": "b91a7fbf",
   "metadata": {},
   "outputs": [
    {
     "name": "stdout",
     "output_type": "stream",
     "text": [
      "* Running on local URL:  http://127.0.0.1:7860\n",
      "* To create a public link, set `share=True` in `launch()`.\n"
     ]
    },
    {
     "data": {
      "text/html": [
       "<div><iframe src=\"http://127.0.0.1:7860/\" width=\"100%\" height=\"500\" allow=\"autoplay; camera; microphone; clipboard-read; clipboard-write;\" frameborder=\"0\" allowfullscreen></iframe></div>"
      ],
      "text/plain": [
       "<IPython.core.display.HTML object>"
      ]
     },
     "metadata": {},
     "output_type": "display_data"
    },
    {
     "data": {
      "text/plain": []
     },
     "execution_count": 5,
     "metadata": {},
     "output_type": "execute_result"
    }
   ],
   "source": [
    "app.launch()\n"
   ]
  },
  {
   "cell_type": "code",
   "execution_count": null,
   "id": "d5c23103",
   "metadata": {},
   "outputs": [],
   "source": []
  }
 ],
 "metadata": {
  "kernelspec": {
   "display_name": "Python 3",
   "language": "python",
   "name": "python3"
  },
  "language_info": {
   "codemirror_mode": {
    "name": "ipython",
    "version": 3
   },
   "file_extension": ".py",
   "mimetype": "text/x-python",
   "name": "python",
   "nbconvert_exporter": "python",
   "pygments_lexer": "ipython3",
   "version": "3.10.11"
  }
 },
 "nbformat": 4,
 "nbformat_minor": 5
}
