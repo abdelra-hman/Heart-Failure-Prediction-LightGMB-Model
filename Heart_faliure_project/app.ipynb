{
 "cells": [
  {
   "cell_type": "code",
   "execution_count": 1,
   "id": "ad635cf3",
   "metadata": {},
   "outputs": [
    {
     "name": "stderr",
     "output_type": "stream",
     "text": [
      "C:\\Users\\ENG_ABDELRAHMAN\\AppData\\Roaming\\Python\\Python310\\site-packages\\tqdm\\auto.py:21: TqdmWarning: IProgress not found. Please update jupyter and ipywidgets. See https://ipywidgets.readthedocs.io/en/stable/user_install.html\n",
      "  from .autonotebook import tqdm as notebook_tqdm\n"
     ]
    }
   ],
   "source": [
    "import gradio as gr\n",
    "import numpy as np\n",
    "import joblib"
   ]
  },
  {
   "cell_type": "code",
   "execution_count": 2,
   "id": "b04c2525",
   "metadata": {},
   "outputs": [],
   "source": [
    "# Load model and scaler\n",
    "model = joblib.load(\"lightgbm_model.pkl\")\n",
    "scaler = joblib.load(\"scaler.pkl\")"
   ]
  },
  {
   "cell_type": "code",
   "execution_count": 3,
   "id": "9b61ac21",
   "metadata": {},
   "outputs": [],
   "source": [
    "# Prediction function\n",
    "def predict_heart_failure(age, anaemia, creatinine_phosphokinase, diabetes, ejection_fraction,\n",
    "                          high_blood_pressure, platelets, serum_creatinine, serum_sodium,\n",
    "                          sex, smoking, time):\n",
    "\n",
    "    # Encode categorical values\n",
    "    anaemia = 1 if anaemia == \"Yes\" else 0\n",
    "    diabetes = 1 if diabetes == \"Yes\" else 0\n",
    "    high_blood_pressure = 1 if high_blood_pressure == \"Yes\" else 0\n",
    "    smoking = 1 if smoking == \"Yes\" else 0\n",
    "    sex = 1 if sex == \"Male\" else 0\n",
    "\n",
    "    # Feature engineering\n",
    "    platelets_per_age = platelets / (age + 1)\n",
    "    creatinine_per_ck = serum_creatinine / (creatinine_phosphokinase + 1)\n",
    "    ejection_per_age = ejection_fraction / (age + 1)\n",
    "    anaemia_creatinine = anaemia * serum_creatinine\n",
    "\n",
    "    # Create input array\n",
    "    features = np.array([[age, anaemia, creatinine_phosphokinase, diabetes, ejection_fraction,\n",
    "                          high_blood_pressure, platelets, serum_creatinine, serum_sodium,\n",
    "                          sex, smoking, time,\n",
    "                          platelets_per_age, creatinine_per_ck, ejection_per_age, anaemia_creatinine]])\n",
    "\n",
    "    # Scale input\n",
    "    features_scaled = scaler.transform(features)\n",
    "\n",
    "    # Predict\n",
    "    prediction = model.predict(features_scaled)[0]\n",
    "    proba = model.predict_proba(features_scaled)[0][prediction]\n",
    "\n",
    "    result = \"✅ Survived\" if prediction == 0 else \"❌ Death Expected\"\n",
    "    return f\"{result} — Probability: {proba:.2%}\"\n"
   ]
  },
  {
   "cell_type": "code",
   "execution_count": 4,
   "id": "7b439dc8",
   "metadata": {},
   "outputs": [],
   "source": [
    "# Input components\n",
    "inputs = [\n",
    "    gr.Number(label=\"Age\"),\n",
    "    gr.Radio([\"No\", \"Yes\"], label=\"Anaemia\"),\n",
    "    gr.Number(label=\"Creatinine Phosphokinase\"),\n",
    "    gr.Radio([\"No\", \"Yes\"], label=\"Diabetes\"),\n",
    "    gr.Number(label=\"Ejection Fraction\"),\n",
    "    gr.Radio([\"No\", \"Yes\"], label=\"High Blood Pressure\"),\n",
    "    gr.Number(label=\"Platelets\"),\n",
    "    gr.Number(label=\"Serum Creatinine\"),\n",
    "    gr.Number(label=\"Serum Sodium\"),\n",
    "    gr.Radio([\"Female\", \"Male\"], label=\"Sex\"),\n",
    "    gr.Radio([\"No\", \"Yes\"], label=\"Smoking\"),\n",
    "    gr.Number(label=\"Follow-up Time\"),\n",
    "]"
   ]
  },
  {
   "cell_type": "code",
   "execution_count": 5,
   "id": "ba6462de",
   "metadata": {},
   "outputs": [],
   "source": [
    "# Example patients\n",
    "examples = [\n",
    "    [60, \"No\", 250, \"Yes\", 38, \"No\", 250000, 1.4, 130, \"Male\", \"Yes\", 90],\n",
    "    [45, \"Yes\", 150, \"No\", 50, \"Yes\", 180000, 1.0, 138, \"Female\", \"No\", 120],\n",
    "    [65, \"Yes\", 400, \"Yes\", 30, \"Yes\", 300000, 2.5, 120, \"Male\", \"Yes\", 50],\n",
    "    [50, \"No\", 100, \"No\", 45, \"No\", 220000, 1.2, 140, \"Female\", \"No\", 100],\n",
    "]"
   ]
  },
  {
   "cell_type": "code",
   "execution_count": 6,
   "id": "1ad7a8a6",
   "metadata": {},
   "outputs": [],
   "source": [
    "# Gradio app\n",
    "app = gr.Interface(\n",
    "    fn=predict_heart_failure,\n",
    "    inputs=inputs,\n",
    "    outputs=\"text\",\n",
    "    title=\"🫀 Heart Failure Prediction\",\n",
    "    description=\"Predict heart failure risk using clinical data (LightGBM model).\",\n",
    "    examples=examples\n",
    ")"
   ]
  },
  {
   "cell_type": "code",
   "execution_count": null,
   "id": "8d15c185",
   "metadata": {},
   "outputs": [
    {
     "name": "stdout",
     "output_type": "stream",
     "text": [
      "* Running on local URL:  http://127.0.0.1:7871\n",
      "* To create a public link, set `share=True` in `launch()`.\n"
     ]
    },
    {
     "data": {
      "text/html": [
       "<div><iframe src=\"http://127.0.0.1:7871/\" width=\"100%\" height=\"500\" allow=\"autoplay; camera; microphone; clipboard-read; clipboard-write;\" frameborder=\"0\" allowfullscreen></iframe></div>"
      ],
      "text/plain": [
       "<IPython.core.display.HTML object>"
      ]
     },
     "metadata": {},
     "output_type": "display_data"
    },
    {
     "data": {
      "text/plain": []
     },
     "execution_count": 7,
     "metadata": {},
     "output_type": "execute_result"
    },
    {
     "name": "stderr",
     "output_type": "stream",
     "text": [
      "C:\\Users\\ENG_ABDELRAHMAN\\AppData\\Roaming\\Python\\Python310\\site-packages\\sklearn\\utils\\validation.py:2739: UserWarning: X does not have valid feature names, but RobustScaler was fitted with feature names\n",
      "  warnings.warn(\n",
      "C:\\Users\\ENG_ABDELRAHMAN\\AppData\\Roaming\\Python\\Python310\\site-packages\\sklearn\\utils\\validation.py:2739: UserWarning: X does not have valid feature names, but LGBMClassifier was fitted with feature names\n",
      "  warnings.warn(\n",
      "C:\\Users\\ENG_ABDELRAHMAN\\AppData\\Roaming\\Python\\Python310\\site-packages\\sklearn\\utils\\validation.py:2739: UserWarning: X does not have valid feature names, but LGBMClassifier was fitted with feature names\n",
      "  warnings.warn(\n"
     ]
    }
   ],
   "source": [
    "app.launch()\n"
   ]
  },
  {
   "cell_type": "code",
   "execution_count": null,
   "id": "a75ddde0",
   "metadata": {},
   "outputs": [],
   "source": []
  }
 ],
 "metadata": {
  "kernelspec": {
   "display_name": "Python 3",
   "language": "python",
   "name": "python3"
  },
  "language_info": {
   "codemirror_mode": {
    "name": "ipython",
    "version": 3
   },
   "file_extension": ".py",
   "mimetype": "text/x-python",
   "name": "python",
   "nbconvert_exporter": "python",
   "pygments_lexer": "ipython3",
   "version": "3.10.11"
  }
 },
 "nbformat": 4,
 "nbformat_minor": 5
}
